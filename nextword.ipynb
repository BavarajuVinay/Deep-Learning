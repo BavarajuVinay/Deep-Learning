from numpy import array
from keras.preprocessing.text import Tokenizer
from keras.utils import to_categorical
from keras.models import Sequential
from keras.layers import Dense, Embedding, LSTM
import tkinter as tk
from tkinter import Entry, Label, Button, StringVar
import numpy as np

# Function to generate a sequence from the model
def generate_seq(model, tokenizer, enter_text, n_pred):
    in_text, result = enter_text, enter_text  #
    # generate a fixed number of words
    for _ in range(n_pred):
        # encode the text as integer
        encoded = tokenizer.texts_to_sequences([in_text])[0]
        encoded = array(encoded)

        # predict a word in the vocabulary
        yhat = model.predict(encoded)[0]

        # map predicted word index to word
        out_word = ''
        for word, index in tokenizer.word_index.items():
            if index == np.argmax(yhat):
                out_word = word
                break
        # append to input
        in_text, result = out_word, result + ' ' + out_word
    return result

# Take input during runtime
user_input = input("Enter a starting word: ")

# source text (user_input is used as the source text)
data = user_input

# integer encode text
tokenizer = Tokenizer()
tokenizer.fit_on_texts([data])
vocab_size = len(tokenizer.word_index) + 1  # 0 is reserved for padding so that's why we added 1

print('Vocabulary Size: %d' % vocab_size)

# create word -> word sequences
encoded_data = tokenizer.texts_to_sequences([data])[0]
sequences = list()
for i in range(1, len(encoded_data)):
    sequence = encoded_data[i-1:i+1]
    sequences.append(sequence)
print('Total Sequences: %d' % len(sequences))

sequences = array(sequences)
X, y = sequences[:, 0], sequences[:, 1]

y = to_categorical(y, num_classes=vocab_size)

# define model
model = Sequential()
model.add(Embedding(vocab_size, 10, input_length=1))
model.add(LSTM(50))
model.add(Dense(vocab_size, activation='softmax'))
print(model.summary())

# compile network
model.compile(loss='categorical_crossentropy', optimizer='adam', metrics=['accuracy'])

# fit network
model.fit(X, y, epochs=10)

# Save the trained model
model.save('your_model.h5')  # Replace 'your_model.h5' with the desired filename

# Function to generate a sequence from the model
def generate_seq(model, tokenizer, enter_text, n_pred):
    in_text, result = enter_text, enter_text  #
    # generate a fixed number of words
    for _ in range(n_pred):

        # encode the text as integer
        encoded = tokenizer.texts_to_sequences([in_text])[0]
        encoded = array(encoded)

        # predict a word in the vocabulary
        yhat = model.predict(encoded)[0]

        # map predicted word index to word
        out_word = ''
        for word, index in tokenizer.word_index.items():
            if index == np.argmax(yhat):
                out_word = word
                break
        # append to input
        in_text, result = out_word, result + ' ' + out_word
    return result

# Create GUI
root = tk.Tk()
root.title("Next 3 Words Generator")

# GUI components
label = Label(root, text="Enter a starting word:")
label.pack(pady=10)

entry = Entry(root, width=30)
entry.pack(pady=10)

generate_button = Button(root, text="Generate Sequence", command=generate_sequence_from_input)
generate_button.pack(pady=10)

result_var = StringVar()
result_label = Label(root, textvariable=result_var)
result_label.pack(pady=10)

# Function to generate a sequence from the model for GUI
def generate_sequence_from_input():
    user_input = entry.get()
    output_sequence = generate_seq(model, tokenizer, user_input, 3)
    result_var.set("Generated Sequence: " + output_sequence)

# Run GUI
root.mainloop()
